{
 "cells": [
  {
   "cell_type": "code",
   "execution_count": 2,
   "metadata": {},
   "outputs": [],
   "source": [
    "import pandas as pd"
   ]
  },
  {
   "cell_type": "code",
   "execution_count": 46,
   "metadata": {},
   "outputs": [
    {
     "name": "stderr",
     "output_type": "stream",
     "text": [
      "/tmp/ipykernel_3471/876821712.py:2: UserWarning: Parsing dates in DD/MM/YYYY format when dayfirst=False (the default) was specified. This may lead to inconsistently parsed dates! Specify a format to ensure consistent parsing.\n",
      "  data['date'] = pd.to_datetime(data['date'])\n"
     ]
    }
   ],
   "source": [
    "data = pd.read_csv(\"dataset/processed_sales_data.csv\", index_col='Unnamed: 0')\n",
    "data['date'] = pd.to_datetime(data['date'])"
   ]
  },
  {
   "cell_type": "code",
   "execution_count": 49,
   "metadata": {},
   "outputs": [
    {
     "data": {
      "text/html": [
       "<div>\n",
       "<style scoped>\n",
       "    .dataframe tbody tr th:only-of-type {\n",
       "        vertical-align: middle;\n",
       "    }\n",
       "\n",
       "    .dataframe tbody tr th {\n",
       "        vertical-align: top;\n",
       "    }\n",
       "\n",
       "    .dataframe thead th {\n",
       "        text-align: right;\n",
       "    }\n",
       "</style>\n",
       "<table border=\"1\" class=\"dataframe\">\n",
       "  <thead>\n",
       "    <tr style=\"text-align: right;\">\n",
       "      <th></th>\n",
       "      <th>date</th>\n",
       "      <th>customer_id</th>\n",
       "      <th>item_id</th>\n",
       "      <th>quantity</th>\n",
       "      <th>price_per_unit</th>\n",
       "      <th>amount</th>\n",
       "      <th>Vrh_No</th>\n",
       "    </tr>\n",
       "  </thead>\n",
       "  <tbody>\n",
       "    <tr>\n",
       "      <th>0</th>\n",
       "      <td>2019-01-04</td>\n",
       "      <td>customer1</td>\n",
       "      <td>Item_1</td>\n",
       "      <td>200.0</td>\n",
       "      <td>20.0</td>\n",
       "      <td>4000.0</td>\n",
       "      <td>1</td>\n",
       "    </tr>\n",
       "    <tr>\n",
       "      <th>2</th>\n",
       "      <td>2019-01-04</td>\n",
       "      <td>customer1</td>\n",
       "      <td>Item_3</td>\n",
       "      <td>12.0</td>\n",
       "      <td>60.0</td>\n",
       "      <td>720.0</td>\n",
       "      <td>1</td>\n",
       "    </tr>\n",
       "    <tr>\n",
       "      <th>3</th>\n",
       "      <td>2019-01-04</td>\n",
       "      <td>customer1</td>\n",
       "      <td>Item_3</td>\n",
       "      <td>15.0</td>\n",
       "      <td>35.0</td>\n",
       "      <td>525.0</td>\n",
       "      <td>1</td>\n",
       "    </tr>\n",
       "    <tr>\n",
       "      <th>4</th>\n",
       "      <td>2019-01-04</td>\n",
       "      <td>customer1</td>\n",
       "      <td>Item_3</td>\n",
       "      <td>25.0</td>\n",
       "      <td>25.0</td>\n",
       "      <td>625.0</td>\n",
       "      <td>1</td>\n",
       "    </tr>\n",
       "    <tr>\n",
       "      <th>23</th>\n",
       "      <td>2019-01-04</td>\n",
       "      <td>customer7</td>\n",
       "      <td>Item_7</td>\n",
       "      <td>240.0</td>\n",
       "      <td>22.0</td>\n",
       "      <td>5280.0</td>\n",
       "      <td>10</td>\n",
       "    </tr>\n",
       "    <tr>\n",
       "      <th>...</th>\n",
       "      <td>...</td>\n",
       "      <td>...</td>\n",
       "      <td>...</td>\n",
       "      <td>...</td>\n",
       "      <td>...</td>\n",
       "      <td>...</td>\n",
       "      <td>...</td>\n",
       "    </tr>\n",
       "    <tr>\n",
       "      <th>1747</th>\n",
       "      <td>2021-12-01</td>\n",
       "      <td>customer133</td>\n",
       "      <td>Item_27</td>\n",
       "      <td>59.0</td>\n",
       "      <td>55.0</td>\n",
       "      <td>3245.0</td>\n",
       "      <td>686</td>\n",
       "    </tr>\n",
       "    <tr>\n",
       "      <th>1748</th>\n",
       "      <td>2021-12-01</td>\n",
       "      <td>customer133</td>\n",
       "      <td>Item_18</td>\n",
       "      <td>204.0</td>\n",
       "      <td>70.0</td>\n",
       "      <td>14280.0</td>\n",
       "      <td>686</td>\n",
       "    </tr>\n",
       "    <tr>\n",
       "      <th>1749</th>\n",
       "      <td>2021-12-01</td>\n",
       "      <td>customer133</td>\n",
       "      <td>Item_6</td>\n",
       "      <td>1200.0</td>\n",
       "      <td>16.5</td>\n",
       "      <td>19800.0</td>\n",
       "      <td>686</td>\n",
       "    </tr>\n",
       "    <tr>\n",
       "      <th>1741</th>\n",
       "      <td>2021-12-01</td>\n",
       "      <td>customer61</td>\n",
       "      <td>Item_3</td>\n",
       "      <td>654.0</td>\n",
       "      <td>23.0</td>\n",
       "      <td>15042.0</td>\n",
       "      <td>683</td>\n",
       "    </tr>\n",
       "    <tr>\n",
       "      <th>1750</th>\n",
       "      <td>2021-12-01</td>\n",
       "      <td>customer133</td>\n",
       "      <td>Item_2</td>\n",
       "      <td>1200.0</td>\n",
       "      <td>21.0</td>\n",
       "      <td>25200.0</td>\n",
       "      <td>686</td>\n",
       "    </tr>\n",
       "  </tbody>\n",
       "</table>\n",
       "<p>1957 rows × 7 columns</p>\n",
       "</div>"
      ],
      "text/plain": [
       "           date  customer_id  item_id  quantity  price_per_unit   amount  \\\n",
       "0    2019-01-04    customer1   Item_1     200.0            20.0   4000.0   \n",
       "2    2019-01-04    customer1   Item_3      12.0            60.0    720.0   \n",
       "3    2019-01-04    customer1   Item_3      15.0            35.0    525.0   \n",
       "4    2019-01-04    customer1   Item_3      25.0            25.0    625.0   \n",
       "23   2019-01-04    customer7   Item_7     240.0            22.0   5280.0   \n",
       "...         ...          ...      ...       ...             ...      ...   \n",
       "1747 2021-12-01  customer133  Item_27      59.0            55.0   3245.0   \n",
       "1748 2021-12-01  customer133  Item_18     204.0            70.0  14280.0   \n",
       "1749 2021-12-01  customer133   Item_6    1200.0            16.5  19800.0   \n",
       "1741 2021-12-01   customer61   Item_3     654.0            23.0  15042.0   \n",
       "1750 2021-12-01  customer133   Item_2    1200.0            21.0  25200.0   \n",
       "\n",
       "      Vrh_No  \n",
       "0          1  \n",
       "2          1  \n",
       "3          1  \n",
       "4          1  \n",
       "23        10  \n",
       "...      ...  \n",
       "1747     686  \n",
       "1748     686  \n",
       "1749     686  \n",
       "1741     683  \n",
       "1750     686  \n",
       "\n",
       "[1957 rows x 7 columns]"
      ]
     },
     "execution_count": 49,
     "metadata": {},
     "output_type": "execute_result"
    }
   ],
   "source": [
    "data.sort_values('date', inplace=True)\n",
    "data"
   ]
  },
  {
   "cell_type": "code",
   "execution_count": 52,
   "metadata": {},
   "outputs": [
    {
     "data": {
      "text/plain": [
       "{'Item_1',\n",
       " 'Item_10',\n",
       " 'Item_11',\n",
       " 'Item_12',\n",
       " 'Item_13',\n",
       " 'Item_14',\n",
       " 'Item_15',\n",
       " 'Item_16',\n",
       " 'Item_17',\n",
       " 'Item_18',\n",
       " 'Item_19',\n",
       " 'Item_2',\n",
       " 'Item_20',\n",
       " 'Item_21',\n",
       " 'Item_22',\n",
       " 'Item_23',\n",
       " 'Item_24',\n",
       " 'Item_25',\n",
       " 'Item_26',\n",
       " 'Item_27',\n",
       " 'Item_28',\n",
       " 'Item_29',\n",
       " 'Item_3',\n",
       " 'Item_30',\n",
       " 'Item_31',\n",
       " 'Item_32',\n",
       " 'Item_33',\n",
       " 'Item_34',\n",
       " 'Item_35',\n",
       " 'Item_36',\n",
       " 'Item_37',\n",
       " 'Item_38',\n",
       " 'Item_39',\n",
       " 'Item_4',\n",
       " 'Item_40',\n",
       " 'Item_41',\n",
       " 'Item_42',\n",
       " 'Item_43',\n",
       " 'Item_44',\n",
       " 'Item_45',\n",
       " 'Item_46',\n",
       " 'Item_47',\n",
       " 'Item_48',\n",
       " 'Item_49',\n",
       " 'Item_5',\n",
       " 'Item_50',\n",
       " 'Item_51',\n",
       " 'Item_52',\n",
       " 'Item_53',\n",
       " 'Item_54',\n",
       " 'Item_55',\n",
       " 'Item_56',\n",
       " 'Item_57',\n",
       " 'Item_58',\n",
       " 'Item_59',\n",
       " 'Item_6',\n",
       " 'Item_60',\n",
       " 'Item_61',\n",
       " 'Item_62',\n",
       " 'Item_63',\n",
       " 'Item_64',\n",
       " 'Item_65',\n",
       " 'Item_66',\n",
       " 'Item_67',\n",
       " 'Item_68',\n",
       " 'Item_69',\n",
       " 'Item_7',\n",
       " 'Item_70',\n",
       " 'Item_71',\n",
       " 'Item_72',\n",
       " 'Item_73',\n",
       " 'Item_74',\n",
       " 'Item_75',\n",
       " 'Item_76',\n",
       " 'Item_77',\n",
       " 'Item_8',\n",
       " 'Item_9'}"
      ]
     },
     "execution_count": 52,
     "metadata": {},
     "output_type": "execute_result"
    }
   ],
   "source": [
    "items = set(data['item_id'])\n",
    "items"
   ]
  },
  {
   "attachments": {},
   "cell_type": "markdown",
   "metadata": {},
   "source": [
    "PER DAY ITEM SALE </br>\n",
    "COLABORATIVE ITEM SUGGESTION "
   ]
  },
  {
   "cell_type": "code",
   "execution_count": 59,
   "metadata": {},
   "outputs": [
    {
     "name": "stderr",
     "output_type": "stream",
     "text": [
      "/tmp/ipykernel_3471/2308117856.py:2: FutureWarning: The default value of numeric_only in DataFrameGroupBy.sum is deprecated. In a future version, numeric_only will default to False. Either specify numeric_only or select only columns which should be valid for the function.\n",
      "  item_1 = df.groupby('date').sum()['quantity']\n"
     ]
    }
   ],
   "source": [
    "df = data[data['item_id'] == 'Item_1']\n",
    "item_1 = df.groupby('date').sum()['quantity']"
   ]
  },
  {
   "cell_type": "code",
   "execution_count": 62,
   "metadata": {},
   "outputs": [
    {
     "data": {
      "text/plain": [
       "date\n",
       "2019-01-04     250.0\n",
       "2019-01-05      50.0\n",
       "2019-01-06     140.0\n",
       "2019-01-10     160.0\n",
       "2019-01-11     360.0\n",
       "               ...  \n",
       "2021-04-01     520.0\n",
       "2021-04-02    2400.0\n",
       "2021-06-01     320.0\n",
       "2021-07-01     400.0\n",
       "2021-12-01     720.0\n",
       "Name: quantity, Length: 75, dtype: float64"
      ]
     },
     "execution_count": 62,
     "metadata": {},
     "output_type": "execute_result"
    }
   ],
   "source": [
    "item_1"
   ]
  },
  {
   "cell_type": "code",
   "execution_count": 60,
   "metadata": {},
   "outputs": [
    {
     "data": {
      "text/plain": [
       "<AxesSubplot: xlabel='date'>"
      ]
     },
     "execution_count": 60,
     "metadata": {},
     "output_type": "execute_result"
    },
    {
     "data": {
      "image/png": "[encoded data removed]",
      "text/plain": [
       "<Figure size 640x480 with 1 Axes>"
      ]
     },
     "metadata": {},
     "output_type": "display_data"
    }
   ],
   "source": [
    "item_1.plot()"
   ]
  },
  {
   "cell_type": "code",
   "execution_count": 61,
   "metadata": {},
   "outputs": [
    {
     "name": "stdout",
     "output_type": "stream",
     "text": [
      "Requirement already satisfied: statsmodels in ./.venv/lib/python3.10/site-packages (0.13.5)\n",
      "Requirement already satisfied: numpy>=1.17 in ./.venv/lib/python3.10/site-packages (from statsmodels) (1.23.5)\n",
      "Requirement already satisfied: patsy>=0.5.2 in ./.venv/lib/python3.10/site-packages (from statsmodels) (0.5.3)\n",
      "Requirement already satisfied: scipy>=1.3 in ./.venv/lib/python3.10/site-packages (from statsmodels) (1.9.3)\n",
      "Requirement already satisfied: packaging>=21.3 in ./.venv/lib/python3.10/site-packages (from statsmodels) (23.0)\n",
      "Requirement already satisfied: pandas>=0.25 in ./.venv/lib/python3.10/site-packages (from statsmodels) (1.5.2)\n",
      "Requirement already satisfied: python-dateutil>=2.8.1 in ./.venv/lib/python3.10/site-packages (from pandas>=0.25->statsmodels) (2.8.2)\n",
      "Requirement already satisfied: pytz>=2020.1 in ./.venv/lib/python3.10/site-packages (from pandas>=0.25->statsmodels) (2022.7)\n",
      "Requirement already satisfied: six in ./.venv/lib/python3.10/site-packages (from patsy>=0.5.2->statsmodels) (1.16.0)\n"
     ]
    }
   ],
   "source": [
    "!pip install statsmodels"
   ]
  },
  {
   "cell_type": "code",
   "execution_count": 71,
   "metadata": {},
   "outputs": [
    {
     "data": {
      "text/plain": [
       "array([ 250.,   50.,  140.,  160.,  360.,  850.,  120.,  130.,  500.,\n",
       "       2400.,  300.,  500.,  140.,   20.,   90.,  130.,  840.,   20.,\n",
       "        120.,  630.,  240., 1640.,   70.,  280.,  720.,  170.,  450.,\n",
       "       1428.,  200.,  540.,  160.,  180.,  370.,  250.,  120.,  330.,\n",
       "       2400.,  360.,  300.,  116.,  542.,   10.,  300.,   70.,  470.,\n",
       "         40.,  380.,  120.,  600.,  130.,  260.,  400.,  250.,  150.,\n",
       "        800., 1400., 1040.,  360.,   50.,   20.,  120.,  400.,  140.,\n",
       "        240.,   20.,  100.,  700.,  220.,  260.,  550.,  520., 2400.,\n",
       "        320.,  400.,  720.])"
      ]
     },
     "execution_count": 71,
     "metadata": {},
     "output_type": "execute_result"
    }
   ],
   "source": [
    "item_1.values"
   ]
  },
  {
   "cell_type": "code",
   "execution_count": 78,
   "metadata": {},
   "outputs": [
    {
     "data": {
      "text/plain": [
       "Float64Index([2458487.5, 2458488.5, 2458489.5, 2458493.5, 2458494.5, 2458518.5,\n",
       "              2458520.5, 2458521.5, 2458546.5, 2458577.5, 2458578.5, 2458587.5,\n",
       "              2458588.5, 2458589.5, 2458592.5, 2458593.5, 2458594.5, 2458595.5,\n",
       "              2458598.5, 2458600.5, 2458603.5, 2458607.5, 2458609.5, 2458618.5,\n",
       "              2458619.5, 2458634.5, 2458639.5, 2458647.5, 2458649.5, 2458653.5,\n",
       "              2458654.5, 2458657.5, 2458663.5, 2458668.5, 2458669.5, 2458672.5,\n",
       "              2458680.5, 2458683.5, 2458685.5, 2458689.5, 2458699.5, 2458701.5,\n",
       "              2458712.5, 2458730.5, 2458731.5, 2458750.5, 2458760.5, 2458762.5,\n",
       "              2458773.5, 2458781.5, 2458791.5, 2458794.5, 2458800.5, 2458802.5,\n",
       "              2458804.5, 2458821.5, 2458824.5, 2458876.5, 2458877.5, 2458889.5,\n",
       "              2458926.5, 2458951.5, 2459129.5, 2459227.5, 2459230.5, 2459236.5,\n",
       "              2459237.5, 2459242.5, 2459243.5, 2459274.5, 2459305.5, 2459306.5,\n",
       "              2459366.5, 2459396.5, 2459549.5],\n",
       "             dtype='float64', name='date')"
      ]
     },
     "execution_count": 78,
     "metadata": {},
     "output_type": "execute_result"
    }
   ],
   "source": []
  },
  {
   "cell_type": "code",
   "execution_count": 85,
   "metadata": {},
   "outputs": [
    {
     "data": {
      "text/html": [
       "<table class=\"simpletable\">\n",
       "<caption>OLS Regression Results</caption>\n",
       "<tr>\n",
       "  <th>Dep. Variable:</th>            <td>y</td>        <th>  R-squared (uncentered):</th>      <td>   0.415</td>\n",
       "</tr>\n",
       "<tr>\n",
       "  <th>Model:</th>                   <td>OLS</td>       <th>  Adj. R-squared (uncentered):</th> <td>   0.407</td>\n",
       "</tr>\n",
       "<tr>\n",
       "  <th>Method:</th>             <td>Least Squares</td>  <th>  F-statistic:       </th>          <td>   52.52</td>\n",
       "</tr>\n",
       "<tr>\n",
       "  <th>Date:</th>             <td>Wed, 18 Jan 2023</td> <th>  Prob (F-statistic):</th>          <td>3.39e-10</td>\n",
       "</tr>\n",
       "<tr>\n",
       "  <th>Time:</th>                 <td>08:48:36</td>     <th>  Log-Likelihood:    </th>          <td> -1189.9</td>\n",
       "</tr>\n",
       "<tr>\n",
       "  <th>No. Observations:</th>      <td>    75</td>      <th>  AIC:               </th>          <td>   2382.</td>\n",
       "</tr>\n",
       "<tr>\n",
       "  <th>Df Residuals:</th>          <td>    74</td>      <th>  BIC:               </th>          <td>   2384.</td>\n",
       "</tr>\n",
       "<tr>\n",
       "  <th>Df Model:</th>              <td>     1</td>      <th>                     </th>              <td> </td>   \n",
       "</tr>\n",
       "<tr>\n",
       "  <th>Covariance Type:</th>      <td>nonrobust</td>    <th>                     </th>              <td> </td>   \n",
       "</tr>\n",
       "</table>\n",
       "<table class=\"simpletable\">\n",
       "<tr>\n",
       "   <td></td>     <th>coef</th>     <th>std err</th>      <th>t</th>      <th>P>|t|</th>  <th>[0.025</th>    <th>0.975]</th>  \n",
       "</tr>\n",
       "<tr>\n",
       "  <th>x1</th> <td> 2349.8696</td> <td>  324.251</td> <td>    7.247</td> <td> 0.000</td> <td> 1703.784</td> <td> 2995.955</td>\n",
       "</tr>\n",
       "</table>\n",
       "<table class=\"simpletable\">\n",
       "<tr>\n",
       "  <th>Omnibus:</th>       <td>56.525</td> <th>  Durbin-Watson:     </th> <td>   0.815</td>\n",
       "</tr>\n",
       "<tr>\n",
       "  <th>Prob(Omnibus):</th> <td> 0.000</td> <th>  Jarque-Bera (JB):  </th> <td> 202.867</td>\n",
       "</tr>\n",
       "<tr>\n",
       "  <th>Skew:</th>          <td>-2.497</td> <th>  Prob(JB):          </th> <td>8.87e-45</td>\n",
       "</tr>\n",
       "<tr>\n",
       "  <th>Kurtosis:</th>      <td> 9.322</td> <th>  Cond. No.          </th> <td>    1.00</td>\n",
       "</tr>\n",
       "</table><br/><br/>Notes:<br/>[1] R² is computed without centering (uncentered) since the model does not contain a constant.<br/>[2] Standard Errors assume that the covariance matrix of the errors is correctly specified."
      ],
      "text/plain": [
       "<class 'statsmodels.iolib.summary.Summary'>\n",
       "\"\"\"\n",
       "                                 OLS Regression Results                                \n",
       "=======================================================================================\n",
       "Dep. Variable:                      y   R-squared (uncentered):                   0.415\n",
       "Model:                            OLS   Adj. R-squared (uncentered):              0.407\n",
       "Method:                 Least Squares   F-statistic:                              52.52\n",
       "Date:                Wed, 18 Jan 2023   Prob (F-statistic):                    3.39e-10\n",
       "Time:                        08:48:36   Log-Likelihood:                         -1189.9\n",
       "No. Observations:                  75   AIC:                                      2382.\n",
       "Df Residuals:                      74   BIC:                                      2384.\n",
       "Df Model:                           1                                                  \n",
       "Covariance Type:            nonrobust                                                  \n",
       "==============================================================================\n",
       "                 coef    std err          t      P>|t|      [0.025      0.975]\n",
       "------------------------------------------------------------------------------\n",
       "x1          2349.8696    324.251      7.247      0.000    1703.784    2995.955\n",
       "==============================================================================\n",
       "Omnibus:                       56.525   Durbin-Watson:                   0.815\n",
       "Prob(Omnibus):                  0.000   Jarque-Bera (JB):              202.867\n",
       "Skew:                          -2.497   Prob(JB):                     8.87e-45\n",
       "Kurtosis:                       9.322   Cond. No.                         1.00\n",
       "==============================================================================\n",
       "\n",
       "Notes:\n",
       "[1] R² is computed without centering (uncentered) since the model does not contain a constant.\n",
       "[2] Standard Errors assume that the covariance matrix of the errors is correctly specified.\n",
       "\"\"\""
      ]
     },
     "execution_count": 85,
     "metadata": {},
     "output_type": "execute_result"
    }
   ],
   "source": [
    "import statsmodels.api as sm\n",
    "model = sm.OLS(pd.to_datetime(item_1.index).to_julian_date().values, item_1.values)\n",
    "model.fit().summary()"
   ]
  },
  {
   "cell_type": "code",
   "execution_count": null,
   "metadata": {},
   "outputs": [],
   "source": []
  }
 ],
 "metadata": {
  "kernelspec": {
   "display_name": ".venv",
   "language": "python",
   "name": "python3"
  },
  "language_info": {
   "codemirror_mode": {
    "name": "ipython",
    "version": 3
   },
   "file_extension": ".py",
   "mimetype": "text/x-python",
   "name": "python",
   "nbconvert_exporter": "python",
   "pygments_lexer": "ipython3",
   "version": "3.10.6"
  },
  "orig_nbformat": 4,
  "vscode": {
   "interpreter": {
    "hash": "c35d015c1d256ed475938c5b5792b7304874c3c5e61da1878fbd82b35c60c934"
   }
  }
 },
 "nbformat": 4,
 "nbformat_minor": 2
}
